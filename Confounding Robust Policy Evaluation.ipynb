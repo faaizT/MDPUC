{
 "cells": [
  {
   "cell_type": "markdown",
   "metadata": {},
   "source": [
    "# Confounding Robust Policy Evaluation\n",
    "We evaluate the worst case regret of a policy $\\pi$ relative to a baseline policy $\\pi_0$ as presented in [Kallus et al.](https://arxiv.org/pdf/1805.08593.pdf)  \n",
    "\n",
    "\n",
    "The model we are using:  \n",
    "Medical Treatment model as defined in Appendix A in https://causalai.net/mdp-causal.pdf  \n",
    "Here, there is a slight difference in physician's policy to ensure there is randomness in the physician's policy"
   ]
  },
  {
   "cell_type": "code",
   "execution_count": 1,
   "metadata": {},
   "outputs": [],
   "source": [
    "import numpy as np\n",
    "def physicains_policy(St, Mt, Et):\n",
    "    p = 0.1\n",
    "    # physician's policy is pi(St, Mt, Et) = St XOR Mt XOR Et XOR Z\n",
    "    # where Z is Bern(p) random variable\n",
    "    Z = np.random.binomial(1, p)\n",
    "    return (St+Mt+Et+Z) % 2"
   ]
  },
  {
   "cell_type": "code",
   "execution_count": 2,
   "metadata": {},
   "outputs": [],
   "source": [
    "# probability_yt_is_1 is a 4 dimensional array\n",
    "# format: probability_yt_is_1[St][Mt][Et][Xt] is P(Yt = 1 | Xt, St, Mt, Et)\n",
    "probability_yt_is_1 = np.zeros((2,2,2,2))\n",
    "probability_yt_is_1[0][0][0][0] = 0.2\n",
    "probability_yt_is_1[0][0][0][1] = 0.9\n",
    "probability_yt_is_1[0][0][1][0] = 0.9\n",
    "probability_yt_is_1[0][0][1][1] = 0.2\n",
    "probability_yt_is_1[0][1][0][0] = 0.8\n",
    "probability_yt_is_1[0][1][0][1] = 0.3\n",
    "probability_yt_is_1[0][1][1][0] = 0.3\n",
    "probability_yt_is_1[0][1][1][1] = 0.8\n",
    "\n",
    "probability_yt_is_1[1][0][0][0] = 0.7\n",
    "probability_yt_is_1[1][0][0][1] = 0.2\n",
    "probability_yt_is_1[1][0][1][0] = 0.2\n",
    "probability_yt_is_1[1][0][1][1] = 0.7\n",
    "probability_yt_is_1[1][1][0][0] = 0.1\n",
    "probability_yt_is_1[1][1][0][1] = 0.8\n",
    "probability_yt_is_1[1][1][1][0] = 0.8\n",
    "probability_yt_is_1[1][1][1][1] = 0.1"
   ]
  },
  {
   "cell_type": "code",
   "execution_count": 3,
   "metadata": {},
   "outputs": [],
   "source": [
    "# transition_prob is a 2 dimensional array\n",
    "# format: transition_prob[Xt][St] = P(St+1 = 0 | St, Xt)\n",
    "transition_prob = np.zeros((2,2))\n",
    "transition_prob[0][0] = 0.9\n",
    "transition_prob[0][1] = 0.3\n",
    "transition_prob[1][0] = 0.7\n",
    "transition_prob[1][1] = 0.8"
   ]
  },
  {
   "cell_type": "code",
   "execution_count": 4,
   "metadata": {},
   "outputs": [],
   "source": [
    "def get_Yt(St, Mt, Et, Xt):\n",
    "    u = np.random.rand()\n",
    "    if u < probability_yt_is_1[St][Mt][Et][Xt]:\n",
    "        return 1\n",
    "    return 0"
   ]
  },
  {
   "cell_type": "code",
   "execution_count": 5,
   "metadata": {},
   "outputs": [],
   "source": [
    "def get_next_state(St, Xt):\n",
    "    u = np.random.rand()\n",
    "    if u < transition_prob[Xt][St]:\n",
    "        return 0\n",
    "    return 1"
   ]
  },
  {
   "cell_type": "markdown",
   "metadata": {},
   "source": [
    "# Generate Data from model"
   ]
  },
  {
   "cell_type": "code",
   "execution_count": 6,
   "metadata": {},
   "outputs": [],
   "source": [
    "import pandas as pd\n",
    "\n",
    "data_df = pd.DataFrame()"
   ]
  },
  {
   "cell_type": "code",
   "execution_count": 7,
   "metadata": {},
   "outputs": [],
   "source": [
    "def generate_single_trajectory(patient_id):\n",
    "    global data_df\n",
    "    St = np.random.randint(2)\n",
    "    for t in range(100):\n",
    "        Mt, Et = np.random.randint(2), np.random.randint(2)\n",
    "        Xt = physicains_policy(St, Mt, Et)\n",
    "        Yt = get_Yt(St, Mt, Et, Xt)\n",
    "        data_df = data_df.append({'pt_id': patient_id,'t': t, 'St': St, 'Mt': Mt, 'Et': Et, 'Xt': Xt, 'Yt': Yt}, ignore_index=True)\n",
    "        St = get_next_state(St, Xt)"
   ]
  },
  {
   "cell_type": "code",
   "execution_count": null,
   "metadata": {},
   "outputs": [],
   "source": [
    "for patient_id in range(5000):\n",
    "    if patient_id % 500 == 0:\n",
    "        print(\"Iteration number: \", patient_id)\n",
    "    generate_single_trajectory(patient_id)"
   ]
  },
  {
   "cell_type": "markdown",
   "metadata": {},
   "source": [
    "We simply reuse the data already generated before"
   ]
  },
  {
   "cell_type": "code",
   "execution_count": 10,
   "metadata": {},
   "outputs": [],
   "source": [
    "data_df = pd.read_csv(\"/Users/faaiz/MDPUC/data-model2.csv\")"
   ]
  },
  {
   "cell_type": "markdown",
   "metadata": {},
   "source": [
    "### Divide the data into training and testing sets"
   ]
  },
  {
   "cell_type": "code",
   "execution_count": 11,
   "metadata": {},
   "outputs": [],
   "source": [
    "patients = data_df['pt_id'].unique()\n",
    "training = patients[np.random.randint(5, size = (len(patients))) != 4]\n",
    "testing = patients[np.random.randint(5, size = (len(patients))) == 4]\n",
    "\n",
    "train_data = data_df.loc[data_df['pt_id'].isin(training)].reset_index()\n",
    "test_data = data_df.loc[data_df['pt_id'].isin(testing)].reset_index()"
   ]
  },
  {
   "cell_type": "markdown",
   "metadata": {},
   "source": [
    "### Compute the physician's policy. \n",
    "We will use this as the baseline $\\pi_0$ when calculating the worst case regret for our policy."
   ]
  },
  {
   "cell_type": "code",
   "execution_count": 14,
   "metadata": {},
   "outputs": [],
   "source": [
    "from util_functions import *\n",
    "\n",
    "sums = compute_state_action_visits(train_data, n_states=2, n_actions=2)"
   ]
  },
  {
   "cell_type": "code",
   "execution_count": 15,
   "metadata": {},
   "outputs": [],
   "source": [
    "physpol = (sums.T/((sums.sum(axis=1)==0) + (sums.sum(axis=1)))).T"
   ]
  },
  {
   "cell_type": "markdown",
   "metadata": {},
   "source": [
    "Our policy $\\pi$ is obtained by 'softening' the deterministic policy  \n",
    "$\\pi(X_t = 0 | S_t = 0) = 1$  \n",
    "$\\pi(X_t = 1 | S_t = 1) = 1$"
   ]
  },
  {
   "cell_type": "code",
   "execution_count": 17,
   "metadata": {},
   "outputs": [
    {
     "data": {
      "text/plain": [
       "array([[0.95, 0.05],\n",
       "       [0.05, 0.95]])"
      ]
     },
     "execution_count": 17,
     "metadata": {},
     "output_type": "execute_result"
    }
   ],
   "source": [
    "pi = np.zeros((2,2))\n",
    "pi[0][0] = 0.95\n",
    "pi[0][1] = 0.05\n",
    "pi[1][0] = 0.05\n",
    "pi[1][1] = 0.95\n",
    "pi"
   ]
  },
  {
   "cell_type": "markdown",
   "metadata": {},
   "source": [
    "### Estimating nominal propensities $P[X_t = x | S_t = s]$ from data\n",
    "We can just estimate this from the physician's policy"
   ]
  },
  {
   "cell_type": "code",
   "execution_count": 19,
   "metadata": {},
   "outputs": [],
   "source": [
    "propensity = physpol"
   ]
  },
  {
   "cell_type": "markdown",
   "metadata": {},
   "source": [
    "For the purposes of this analysis, we assume $\\Gamma = 1.2$. We will calibrate the value of $\\Gamma$ when doing a more careful analysis.  \n",
    "Here $\\Gamma$ is defined as a bound $\\Gamma\\geq1$, such that:  \n",
    "$\\Gamma^{-1}\\leq\\frac{(1-\\tilde{e}_T(X))e_T(X,Y)}{\\tilde{e}_T(X)(1-e_T(X,Y))}\\leq\\Gamma$  \n",
    "here $\\tilde{e}_T(X) = P(T=t | X=x)$  \n",
    "and $e_T(X,Y)=P(T=t | X=x, Y(t) = y)$"
   ]
  },
  {
   "cell_type": "markdown",
   "metadata": {},
   "source": [
    "We use **Theorem 11** in [Kallus et al.](https://arxiv.org/pdf/1805.08593.pdf) to calculate the worst case regret. In order to do this, we must first compute $r_i$, $a_i^\\Gamma$ and $b_i^\\Gamma$ values as defined in the paper."
   ]
  },
  {
   "cell_type": "code",
   "execution_count": 22,
   "metadata": {},
   "outputs": [],
   "source": [
    "gamma = 1.2\n",
    "cr_data = train_data.copy()\n",
    "for index, row in cr_data.iterrows():\n",
    "    cr_data.at[index, 'r'] = (physpol[int(row['St'])][int(row['Xt'])]-pi[int(row['St'])][int(row['Xt'])])*row['Yt']\n",
    "    cr_data.at[index, 'a'] = 1 + 1/gamma*(1/propensity[int(row['St'])][int(row['Xt'])] - 1)\n",
    "    cr_data.at[index, 'b'] = 1 + gamma*(1/propensity[int(row['St'])][int(row['Xt'])] - 1)\n",
    "    "
   ]
  },
  {
   "cell_type": "code",
   "execution_count": 23,
   "metadata": {},
   "outputs": [
    {
     "data": {
      "text/html": [
       "<div>\n",
       "<style scoped>\n",
       "    .dataframe tbody tr th:only-of-type {\n",
       "        vertical-align: middle;\n",
       "    }\n",
       "\n",
       "    .dataframe tbody tr th {\n",
       "        vertical-align: top;\n",
       "    }\n",
       "\n",
       "    .dataframe thead th {\n",
       "        text-align: right;\n",
       "    }\n",
       "</style>\n",
       "<table border=\"1\" class=\"dataframe\">\n",
       "  <thead>\n",
       "    <tr style=\"text-align: right;\">\n",
       "      <th></th>\n",
       "      <th>index</th>\n",
       "      <th>Unnamed: 0</th>\n",
       "      <th>Et</th>\n",
       "      <th>Mt</th>\n",
       "      <th>St</th>\n",
       "      <th>Xt</th>\n",
       "      <th>Yt</th>\n",
       "      <th>pt_id</th>\n",
       "      <th>t</th>\n",
       "      <th>r</th>\n",
       "      <th>a</th>\n",
       "      <th>b</th>\n",
       "    </tr>\n",
       "  </thead>\n",
       "  <tbody>\n",
       "    <tr>\n",
       "      <th>0</th>\n",
       "      <td>0</td>\n",
       "      <td>0</td>\n",
       "      <td>1.0</td>\n",
       "      <td>0.0</td>\n",
       "      <td>0.0</td>\n",
       "      <td>1.0</td>\n",
       "      <td>1.0</td>\n",
       "      <td>0.0</td>\n",
       "      <td>0.0</td>\n",
       "      <td>0.44825</td>\n",
       "      <td>1.839187</td>\n",
       "      <td>2.208430</td>\n",
       "    </tr>\n",
       "    <tr>\n",
       "      <th>1</th>\n",
       "      <td>1</td>\n",
       "      <td>1</td>\n",
       "      <td>1.0</td>\n",
       "      <td>1.0</td>\n",
       "      <td>0.0</td>\n",
       "      <td>0.0</td>\n",
       "      <td>0.0</td>\n",
       "      <td>0.0</td>\n",
       "      <td>1.0</td>\n",
       "      <td>-0.00000</td>\n",
       "      <td>1.827520</td>\n",
       "      <td>2.191629</td>\n",
       "    </tr>\n",
       "    <tr>\n",
       "      <th>2</th>\n",
       "      <td>2</td>\n",
       "      <td>2</td>\n",
       "      <td>0.0</td>\n",
       "      <td>0.0</td>\n",
       "      <td>0.0</td>\n",
       "      <td>0.0</td>\n",
       "      <td>0.0</td>\n",
       "      <td>0.0</td>\n",
       "      <td>2.0</td>\n",
       "      <td>-0.00000</td>\n",
       "      <td>1.827520</td>\n",
       "      <td>2.191629</td>\n",
       "    </tr>\n",
       "    <tr>\n",
       "      <th>3</th>\n",
       "      <td>3</td>\n",
       "      <td>3</td>\n",
       "      <td>1.0</td>\n",
       "      <td>0.0</td>\n",
       "      <td>0.0</td>\n",
       "      <td>1.0</td>\n",
       "      <td>0.0</td>\n",
       "      <td>0.0</td>\n",
       "      <td>3.0</td>\n",
       "      <td>0.00000</td>\n",
       "      <td>1.839187</td>\n",
       "      <td>2.208430</td>\n",
       "    </tr>\n",
       "    <tr>\n",
       "      <th>4</th>\n",
       "      <td>4</td>\n",
       "      <td>4</td>\n",
       "      <td>0.0</td>\n",
       "      <td>1.0</td>\n",
       "      <td>0.0</td>\n",
       "      <td>1.0</td>\n",
       "      <td>0.0</td>\n",
       "      <td>0.0</td>\n",
       "      <td>4.0</td>\n",
       "      <td>0.00000</td>\n",
       "      <td>1.839187</td>\n",
       "      <td>2.208430</td>\n",
       "    </tr>\n",
       "  </tbody>\n",
       "</table>\n",
       "</div>"
      ],
      "text/plain": [
       "   index  Unnamed: 0   Et   Mt   St   Xt   Yt  pt_id    t        r         a  \\\n",
       "0      0           0  1.0  0.0  0.0  1.0  1.0    0.0  0.0  0.44825  1.839187   \n",
       "1      1           1  1.0  1.0  0.0  0.0  0.0    0.0  1.0 -0.00000  1.827520   \n",
       "2      2           2  0.0  0.0  0.0  0.0  0.0    0.0  2.0 -0.00000  1.827520   \n",
       "3      3           3  1.0  0.0  0.0  1.0  0.0    0.0  3.0  0.00000  1.839187   \n",
       "4      4           4  0.0  1.0  0.0  1.0  0.0    0.0  4.0  0.00000  1.839187   \n",
       "\n",
       "          b  \n",
       "0  2.208430  \n",
       "1  2.191629  \n",
       "2  2.191629  \n",
       "3  2.208430  \n",
       "4  2.208430  "
      ]
     },
     "execution_count": 23,
     "metadata": {},
     "output_type": "execute_result"
    }
   ],
   "source": [
    "cr_data.head()"
   ]
  },
  {
   "cell_type": "code",
   "execution_count": 33,
   "metadata": {},
   "outputs": [],
   "source": [
    "cr_data_sorted = cr_data.sort_values(by='r').reset_index()"
   ]
  },
  {
   "cell_type": "code",
   "execution_count": 34,
   "metadata": {},
   "outputs": [
    {
     "data": {
      "text/html": [
       "<div>\n",
       "<style scoped>\n",
       "    .dataframe tbody tr th:only-of-type {\n",
       "        vertical-align: middle;\n",
       "    }\n",
       "\n",
       "    .dataframe tbody tr th {\n",
       "        vertical-align: top;\n",
       "    }\n",
       "\n",
       "    .dataframe thead th {\n",
       "        text-align: right;\n",
       "    }\n",
       "</style>\n",
       "<table border=\"1\" class=\"dataframe\">\n",
       "  <thead>\n",
       "    <tr style=\"text-align: right;\">\n",
       "      <th></th>\n",
       "      <th>level_0</th>\n",
       "      <th>index</th>\n",
       "      <th>Unnamed: 0</th>\n",
       "      <th>Et</th>\n",
       "      <th>Mt</th>\n",
       "      <th>St</th>\n",
       "      <th>Xt</th>\n",
       "      <th>Yt</th>\n",
       "      <th>pt_id</th>\n",
       "      <th>t</th>\n",
       "      <th>r</th>\n",
       "      <th>a</th>\n",
       "      <th>b</th>\n",
       "    </tr>\n",
       "  </thead>\n",
       "  <tbody>\n",
       "    <tr>\n",
       "      <th>0</th>\n",
       "      <td>249328</td>\n",
       "      <td>308928</td>\n",
       "      <td>308928</td>\n",
       "      <td>0.0</td>\n",
       "      <td>0.0</td>\n",
       "      <td>1.0</td>\n",
       "      <td>1.0</td>\n",
       "      <td>1.0</td>\n",
       "      <td>3089.0</td>\n",
       "      <td>28.0</td>\n",
       "      <td>-0.451754</td>\n",
       "      <td>1.839202</td>\n",
       "      <td>2.208451</td>\n",
       "    </tr>\n",
       "    <tr>\n",
       "      <th>1</th>\n",
       "      <td>290255</td>\n",
       "      <td>360855</td>\n",
       "      <td>360855</td>\n",
       "      <td>0.0</td>\n",
       "      <td>0.0</td>\n",
       "      <td>1.0</td>\n",
       "      <td>1.0</td>\n",
       "      <td>1.0</td>\n",
       "      <td>3608.0</td>\n",
       "      <td>55.0</td>\n",
       "      <td>-0.451754</td>\n",
       "      <td>1.839202</td>\n",
       "      <td>2.208451</td>\n",
       "    </tr>\n",
       "    <tr>\n",
       "      <th>2</th>\n",
       "      <td>215491</td>\n",
       "      <td>267191</td>\n",
       "      <td>267191</td>\n",
       "      <td>1.0</td>\n",
       "      <td>1.0</td>\n",
       "      <td>1.0</td>\n",
       "      <td>1.0</td>\n",
       "      <td>1.0</td>\n",
       "      <td>2671.0</td>\n",
       "      <td>91.0</td>\n",
       "      <td>-0.451754</td>\n",
       "      <td>1.839202</td>\n",
       "      <td>2.208451</td>\n",
       "    </tr>\n",
       "    <tr>\n",
       "      <th>3</th>\n",
       "      <td>390099</td>\n",
       "      <td>487999</td>\n",
       "      <td>487999</td>\n",
       "      <td>0.0</td>\n",
       "      <td>0.0</td>\n",
       "      <td>1.0</td>\n",
       "      <td>1.0</td>\n",
       "      <td>1.0</td>\n",
       "      <td>4879.0</td>\n",
       "      <td>99.0</td>\n",
       "      <td>-0.451754</td>\n",
       "      <td>1.839202</td>\n",
       "      <td>2.208451</td>\n",
       "    </tr>\n",
       "    <tr>\n",
       "      <th>4</th>\n",
       "      <td>157382</td>\n",
       "      <td>194582</td>\n",
       "      <td>194582</td>\n",
       "      <td>0.0</td>\n",
       "      <td>0.0</td>\n",
       "      <td>1.0</td>\n",
       "      <td>1.0</td>\n",
       "      <td>1.0</td>\n",
       "      <td>1945.0</td>\n",
       "      <td>82.0</td>\n",
       "      <td>-0.451754</td>\n",
       "      <td>1.839202</td>\n",
       "      <td>2.208451</td>\n",
       "    </tr>\n",
       "  </tbody>\n",
       "</table>\n",
       "</div>"
      ],
      "text/plain": [
       "   level_0   index  Unnamed: 0   Et   Mt   St   Xt   Yt   pt_id     t  \\\n",
       "0   249328  308928      308928  0.0  0.0  1.0  1.0  1.0  3089.0  28.0   \n",
       "1   290255  360855      360855  0.0  0.0  1.0  1.0  1.0  3608.0  55.0   \n",
       "2   215491  267191      267191  1.0  1.0  1.0  1.0  1.0  2671.0  91.0   \n",
       "3   390099  487999      487999  0.0  0.0  1.0  1.0  1.0  4879.0  99.0   \n",
       "4   157382  194582      194582  0.0  0.0  1.0  1.0  1.0  1945.0  82.0   \n",
       "\n",
       "          r         a         b  \n",
       "0 -0.451754  1.839202  2.208451  \n",
       "1 -0.451754  1.839202  2.208451  \n",
       "2 -0.451754  1.839202  2.208451  \n",
       "3 -0.451754  1.839202  2.208451  \n",
       "4 -0.451754  1.839202  2.208451  "
      ]
     },
     "execution_count": 34,
     "metadata": {},
     "output_type": "execute_result"
    }
   ],
   "source": [
    "cr_data_sorted.head()"
   ]
  },
  {
   "cell_type": "code",
   "execution_count": 49,
   "metadata": {},
   "outputs": [],
   "source": [
    "def compute_lambda(k, cr_data_sorted):\n",
    "    num = ((cr_data_sorted.index<k)*(cr_data_sorted['a']*cr_data_sorted['r'])).sum() +\\\n",
    "    ((cr_data_sorted.index>=k)*(cr_data_sorted['b']*cr_data_sorted['r'])).sum()\n",
    "    den = ((cr_data_sorted.index<k)*cr_data_sorted['a']).sum() +\\\n",
    "    ((cr_data_sorted.index>=k)*cr_data_sorted['b']).sum()\n",
    "    return num/den    "
   ]
  },
  {
   "cell_type": "markdown",
   "metadata": {},
   "source": [
    "As proved in the paper, the worst case regret estimate $\\hat{\\bar{Q}}(r;W_n^\\Gamma) = \\lambda(k^*)$  \n",
    "where $k^* = \\inf\\{k=1,\\dots,n+1:\\lambda(k)<\\lambda(k-1)\\}$"
   ]
  },
  {
   "cell_type": "code",
   "execution_count": 51,
   "metadata": {},
   "outputs": [
    {
     "name": "stdout",
     "output_type": "stream",
     "text": [
      "Worst case regret is 0.012713775195430332\n"
     ]
    }
   ],
   "source": [
    "lbd = compute_lambda(0, cr_data_sorted)\n",
    "next_lbd = compute_lambda(1, cr_data_sorted)\n",
    "i = 2\n",
    "while i < len(cr_data_sorted) and  lbd <= next_lbd:\n",
    "    lbd = next_lbd\n",
    "    next_lbd = compute_lambda(i, cr_data_sorted)\n",
    "    i += 1\n",
    "if next_lbd < lbd:\n",
    "    print('Worst case regret is', next_lbd)\n",
    "else:\n",
    "    print('k* is infinity')"
   ]
  },
  {
   "cell_type": "markdown",
   "metadata": {},
   "source": [
    "# Bring this all together in a function "
   ]
  },
  {
   "cell_type": "code",
   "execution_count": 55,
   "metadata": {},
   "outputs": [],
   "source": [
    "def compute_worst_case_regret(data, pi, pi0, gamma):\n",
    "    n_states = len(pi)\n",
    "    n_actions = len(pi[0])\n",
    "    sums = compute_state_action_visits(data, n_states, n_actions)\n",
    "    physpol = (sums.T/((sums.sum(axis=1)==0) + (sums.sum(axis=1)))).T\n",
    "    propensity = physpol\n",
    "    cr_data = data.copy()\n",
    "    for index, row in cr_data.iterrows():\n",
    "        cr_data.at[index, 'r'] = (physpol[int(row['St'])][int(row['Xt'])]-pi[int(row['St'])][int(row['Xt'])])*row['Yt']\n",
    "        cr_data.at[index, 'a'] = 1 + 1/gamma*(1/propensity[int(row['St'])][int(row['Xt'])] - 1)\n",
    "        cr_data.at[index, 'b'] = 1 + gamma*(1/propensity[int(row['St'])][int(row['Xt'])] - 1)\n",
    "    cr_data_sorted = cr_data.sort_values(by='r').reset_index()\n",
    "    lbd = compute_lambda(0, cr_data_sorted)\n",
    "    next_lbd = compute_lambda(1, cr_data_sorted)\n",
    "    i = 2\n",
    "    while i < len(cr_data_sorted) and  lbd <= next_lbd:\n",
    "        lbd = next_lbd\n",
    "        next_lbd = compute_lambda(i, cr_data_sorted)\n",
    "        i += 1\n",
    "    if next_lbd < lbd:\n",
    "        print('Worst case regret is', next_lbd)\n",
    "        return next_lbd\n",
    "    else:\n",
    "        print('k* is infinity')\n",
    "        return None"
   ]
  },
  {
   "cell_type": "markdown",
   "metadata": {},
   "source": [
    "Let's try the same with policy $\\pi$ obtained by 'softening' the deterministic policy  \n",
    "$\\pi(X_t = 1 | S_t = 0) = 1$  \n",
    "$\\pi(X_t = 0 | S_t = 1) = 1$"
   ]
  },
  {
   "cell_type": "code",
   "execution_count": 60,
   "metadata": {},
   "outputs": [
    {
     "data": {
      "text/plain": [
       "array([[0.05, 0.95],\n",
       "       [0.95, 0.05]])"
      ]
     },
     "execution_count": 60,
     "metadata": {},
     "output_type": "execute_result"
    }
   ],
   "source": [
    "pi = np.zeros((2,2))\n",
    "pi[0][0] = 0.05\n",
    "pi[0][1] = 0.95\n",
    "pi[1][0] = 0.95\n",
    "pi[1][1] = 0.05\n",
    "pi"
   ]
  },
  {
   "cell_type": "code",
   "execution_count": 61,
   "metadata": {},
   "outputs": [
    {
     "name": "stdout",
     "output_type": "stream",
     "text": [
      "Worst case regret is 0.012713775195430332\n"
     ]
    },
    {
     "data": {
      "text/plain": [
       "0.012713775195430332"
      ]
     },
     "execution_count": 61,
     "metadata": {},
     "output_type": "execute_result"
    }
   ],
   "source": [
    "compute_worst_case_regret(train_data, pi, physpol, gamma=1.2)"
   ]
  },
  {
   "cell_type": "markdown",
   "metadata": {},
   "source": [
    "### Change the degree of unmeasured confounding\n",
    "Now let's assume that we only have access to $S_t$ and $E_t$. $M_t$ is an unobserved confounder. In this case, the state space has 4 states. The action space remains unchanged."
   ]
  },
  {
   "cell_type": "code",
   "execution_count": 65,
   "metadata": {},
   "outputs": [
    {
     "data": {
      "text/html": [
       "<div>\n",
       "<style scoped>\n",
       "    .dataframe tbody tr th:only-of-type {\n",
       "        vertical-align: middle;\n",
       "    }\n",
       "\n",
       "    .dataframe tbody tr th {\n",
       "        vertical-align: top;\n",
       "    }\n",
       "\n",
       "    .dataframe thead th {\n",
       "        text-align: right;\n",
       "    }\n",
       "</style>\n",
       "<table border=\"1\" class=\"dataframe\">\n",
       "  <thead>\n",
       "    <tr style=\"text-align: right;\">\n",
       "      <th></th>\n",
       "      <th>index</th>\n",
       "      <th>Unnamed: 0</th>\n",
       "      <th>Et</th>\n",
       "      <th>Mt</th>\n",
       "      <th>St</th>\n",
       "      <th>Xt</th>\n",
       "      <th>Yt</th>\n",
       "      <th>pt_id</th>\n",
       "      <th>t</th>\n",
       "    </tr>\n",
       "  </thead>\n",
       "  <tbody>\n",
       "    <tr>\n",
       "      <th>0</th>\n",
       "      <td>0</td>\n",
       "      <td>0</td>\n",
       "      <td>1.0</td>\n",
       "      <td>0.0</td>\n",
       "      <td>0.0</td>\n",
       "      <td>1.0</td>\n",
       "      <td>1.0</td>\n",
       "      <td>0.0</td>\n",
       "      <td>0.0</td>\n",
       "    </tr>\n",
       "    <tr>\n",
       "      <th>1</th>\n",
       "      <td>1</td>\n",
       "      <td>1</td>\n",
       "      <td>1.0</td>\n",
       "      <td>1.0</td>\n",
       "      <td>0.0</td>\n",
       "      <td>0.0</td>\n",
       "      <td>0.0</td>\n",
       "      <td>0.0</td>\n",
       "      <td>1.0</td>\n",
       "    </tr>\n",
       "    <tr>\n",
       "      <th>2</th>\n",
       "      <td>2</td>\n",
       "      <td>2</td>\n",
       "      <td>0.0</td>\n",
       "      <td>0.0</td>\n",
       "      <td>0.0</td>\n",
       "      <td>0.0</td>\n",
       "      <td>0.0</td>\n",
       "      <td>0.0</td>\n",
       "      <td>2.0</td>\n",
       "    </tr>\n",
       "    <tr>\n",
       "      <th>3</th>\n",
       "      <td>3</td>\n",
       "      <td>3</td>\n",
       "      <td>1.0</td>\n",
       "      <td>0.0</td>\n",
       "      <td>0.0</td>\n",
       "      <td>1.0</td>\n",
       "      <td>0.0</td>\n",
       "      <td>0.0</td>\n",
       "      <td>3.0</td>\n",
       "    </tr>\n",
       "    <tr>\n",
       "      <th>4</th>\n",
       "      <td>4</td>\n",
       "      <td>4</td>\n",
       "      <td>0.0</td>\n",
       "      <td>1.0</td>\n",
       "      <td>0.0</td>\n",
       "      <td>1.0</td>\n",
       "      <td>0.0</td>\n",
       "      <td>0.0</td>\n",
       "      <td>4.0</td>\n",
       "    </tr>\n",
       "  </tbody>\n",
       "</table>\n",
       "</div>"
      ],
      "text/plain": [
       "   index  Unnamed: 0   Et   Mt   St   Xt   Yt  pt_id    t\n",
       "0      0           0  1.0  0.0  0.0  1.0  1.0    0.0  0.0\n",
       "1      1           1  1.0  1.0  0.0  0.0  0.0    0.0  1.0\n",
       "2      2           2  0.0  0.0  0.0  0.0  0.0    0.0  2.0\n",
       "3      3           3  1.0  0.0  0.0  1.0  0.0    0.0  3.0\n",
       "4      4           4  0.0  1.0  0.0  1.0  0.0    0.0  4.0"
      ]
     },
     "execution_count": 65,
     "metadata": {},
     "output_type": "execute_result"
    }
   ],
   "source": [
    "train_data_model2 = train_data.copy()\n",
    "train_data_model2.head()"
   ]
  },
  {
   "cell_type": "code",
   "execution_count": 66,
   "metadata": {},
   "outputs": [
    {
     "data": {
      "text/html": [
       "<div>\n",
       "<style scoped>\n",
       "    .dataframe tbody tr th:only-of-type {\n",
       "        vertical-align: middle;\n",
       "    }\n",
       "\n",
       "    .dataframe tbody tr th {\n",
       "        vertical-align: top;\n",
       "    }\n",
       "\n",
       "    .dataframe thead th {\n",
       "        text-align: right;\n",
       "    }\n",
       "</style>\n",
       "<table border=\"1\" class=\"dataframe\">\n",
       "  <thead>\n",
       "    <tr style=\"text-align: right;\">\n",
       "      <th></th>\n",
       "      <th>index</th>\n",
       "      <th>Unnamed: 0</th>\n",
       "      <th>St</th>\n",
       "      <th>Xt</th>\n",
       "      <th>Yt</th>\n",
       "      <th>pt_id</th>\n",
       "      <th>t</th>\n",
       "    </tr>\n",
       "  </thead>\n",
       "  <tbody>\n",
       "    <tr>\n",
       "      <th>0</th>\n",
       "      <td>0</td>\n",
       "      <td>0</td>\n",
       "      <td>2.0</td>\n",
       "      <td>1.0</td>\n",
       "      <td>1.0</td>\n",
       "      <td>0.0</td>\n",
       "      <td>0.0</td>\n",
       "    </tr>\n",
       "    <tr>\n",
       "      <th>1</th>\n",
       "      <td>1</td>\n",
       "      <td>1</td>\n",
       "      <td>2.0</td>\n",
       "      <td>0.0</td>\n",
       "      <td>0.0</td>\n",
       "      <td>0.0</td>\n",
       "      <td>1.0</td>\n",
       "    </tr>\n",
       "    <tr>\n",
       "      <th>2</th>\n",
       "      <td>2</td>\n",
       "      <td>2</td>\n",
       "      <td>0.0</td>\n",
       "      <td>0.0</td>\n",
       "      <td>0.0</td>\n",
       "      <td>0.0</td>\n",
       "      <td>2.0</td>\n",
       "    </tr>\n",
       "    <tr>\n",
       "      <th>3</th>\n",
       "      <td>3</td>\n",
       "      <td>3</td>\n",
       "      <td>2.0</td>\n",
       "      <td>1.0</td>\n",
       "      <td>0.0</td>\n",
       "      <td>0.0</td>\n",
       "      <td>3.0</td>\n",
       "    </tr>\n",
       "    <tr>\n",
       "      <th>4</th>\n",
       "      <td>4</td>\n",
       "      <td>4</td>\n",
       "      <td>0.0</td>\n",
       "      <td>1.0</td>\n",
       "      <td>0.0</td>\n",
       "      <td>0.0</td>\n",
       "      <td>4.0</td>\n",
       "    </tr>\n",
       "  </tbody>\n",
       "</table>\n",
       "</div>"
      ],
      "text/plain": [
       "   index  Unnamed: 0   St   Xt   Yt  pt_id    t\n",
       "0      0           0  2.0  1.0  1.0    0.0  0.0\n",
       "1      1           1  2.0  0.0  0.0    0.0  1.0\n",
       "2      2           2  0.0  0.0  0.0    0.0  2.0\n",
       "3      3           3  2.0  1.0  0.0    0.0  3.0\n",
       "4      4           4  0.0  1.0  0.0    0.0  4.0"
      ]
     },
     "execution_count": 66,
     "metadata": {},
     "output_type": "execute_result"
    }
   ],
   "source": [
    "train_data_model2['St'] = train_data_model2['St'] + 2*train_data_model2['Et']\n",
    "train_data_model2.drop(columns = ['Et', 'Mt'], inplace=True)\n",
    "train_data_model2.head()"
   ]
  },
  {
   "cell_type": "markdown",
   "metadata": {},
   "source": [
    "### Optimal policy $\\pi^*$\n",
    "We know from the complete model dynamics that the optimal policy $\\pi^*$ in this case is:  \n",
    "$(S_t, E_t)$ -> Optimal Action  \n",
    "(0,0) -> 1  \n",
    "(0,1) -> 0  \n",
    "(1,0) -> 1  \n",
    "(1,1) -> 0"
   ]
  },
  {
   "cell_type": "code",
   "execution_count": 72,
   "metadata": {},
   "outputs": [],
   "source": [
    "def soften_deterministic_policy(policy):\n",
    "    p = 0.05\n",
    "    n_states = len(policy)\n",
    "    n_actions = len(policy[0])\n",
    "    for i in range(len(policy)):\n",
    "        for j in range(len(policy[i])):\n",
    "            if policy[i][j] == 0:\n",
    "                policy[i][j] = p/(n_actions-1)\n",
    "            elif policy[i][j] == 1:\n",
    "                policy[i][j] = 1-p\n",
    "    return policy"
   ]
  },
  {
   "cell_type": "markdown",
   "metadata": {},
   "source": [
    "A policy which always picks action 0 must have higher regret than the optimal policy $\\pi^*$ relative to the physician's policy."
   ]
  },
  {
   "cell_type": "code",
   "execution_count": 73,
   "metadata": {},
   "outputs": [
    {
     "data": {
      "text/plain": [
       "array([[0.95, 0.05],\n",
       "       [0.95, 0.05],\n",
       "       [0.95, 0.05],\n",
       "       [0.95, 0.05]])"
      ]
     },
     "execution_count": 73,
     "metadata": {},
     "output_type": "execute_result"
    }
   ],
   "source": [
    "pi = np.zeros((4,2))\n",
    "pi[0][0] = 1\n",
    "pi[1][0] = 1\n",
    "pi[2][0] = 1\n",
    "pi[3][0] = 1\n",
    "soften_deterministic_policy(pi)"
   ]
  },
  {
   "cell_type": "code",
   "execution_count": 74,
   "metadata": {},
   "outputs": [
    {
     "data": {
      "text/plain": [
       "array([[0.5002815 , 0.4997185 ],\n",
       "       [0.50353386, 0.49646614],\n",
       "       [0.50320865, 0.49679135],\n",
       "       [0.49998152, 0.50001848]])"
      ]
     },
     "execution_count": 74,
     "metadata": {},
     "output_type": "execute_result"
    }
   ],
   "source": [
    "sums = compute_state_action_visits(train_data_model2, n_states=4, n_actions=2)\n",
    "physpol = (sums.T/((sums.sum(axis=1)==0) + (sums.sum(axis=1)))).T\n",
    "physpol"
   ]
  },
  {
   "cell_type": "code",
   "execution_count": null,
   "metadata": {},
   "outputs": [],
   "source": [
    "compute_worst_case_regret(train_data_model2, soften_deterministic_policy(pi), physpol, gamma=1.2)"
   ]
  },
  {
   "cell_type": "code",
   "execution_count": null,
   "metadata": {},
   "outputs": [],
   "source": [
    "pi_star = np.zeros((4,2))\n",
    "pi_star[0][1] = 1\n",
    "pi_star[1][1] = 1\n",
    "pi_star[2][0] = 1\n",
    "pi_star[3][0] = 1"
   ]
  },
  {
   "cell_type": "code",
   "execution_count": null,
   "metadata": {},
   "outputs": [],
   "source": [
    "compute_worst_case_regret(train_data_model2, soften_deterministic_policy(pi_str), physpol, gamma=1.2)"
   ]
  }
 ],
 "metadata": {
  "kernelspec": {
   "display_name": "Python 3",
   "language": "python",
   "name": "python3"
  },
  "language_info": {
   "codemirror_mode": {
    "name": "ipython",
    "version": 3
   },
   "file_extension": ".py",
   "mimetype": "text/x-python",
   "name": "python",
   "nbconvert_exporter": "python",
   "pygments_lexer": "ipython3",
   "version": "3.8.0"
  }
 },
 "nbformat": 4,
 "nbformat_minor": 2
}
